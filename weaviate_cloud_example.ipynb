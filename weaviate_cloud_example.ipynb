{
  "nbformat": 4,
  "nbformat_minor": 0,
  "metadata": {
    "colab": {
      "name": "weaviate-cloud-example.ipynb",
      "provenance": [],
      "collapsed_sections": []
    },
    "kernelspec": {
      "name": "python3",
      "display_name": "Python 3"
    },
    "language_info": {
      "name": "python"
    }
  },
  "cells": [
    {
      "cell_type": "markdown",
      "source": [
        "### Create Dataset"
      ],
      "metadata": {
        "id": "aUprjcG2GDTJ"
      }
    },
    {
      "cell_type": "code",
      "execution_count": null,
      "metadata": {
        "id": "6vjGkfryDgC7"
      },
      "outputs": [],
      "source": [
        "# list of dictionaries \n",
        "my_dict = [{\"name\": \"Apple\",\"color\": \"red\"},\n",
        "           {\"name\":\"Blueberries\", \"color\": \"blue\"}, \n",
        "           {\"name\": \"Strawberries\", \"color\": \"red\"}, \n",
        "           {\"name\": \"Banana\", \"color\": \"yellow\"}, \n",
        "           {\"name\": \"Oranges\", \"color\": \"orange\"},\n",
        "           {\"name\": \"Pineapple\", \"color\": \"yellow\"}]"
      ]
    },
    {
      "cell_type": "code",
      "source": [
        "my_dict"
      ],
      "metadata": {
        "colab": {
          "base_uri": "https://localhost:8080/"
        },
        "id": "EE-EvLmJEH51",
        "outputId": "e90fe653-a722-4759-89eb-8bf6e5461f29"
      },
      "execution_count": null,
      "outputs": [
        {
          "output_type": "execute_result",
          "data": {
            "text/plain": [
              "[{'color': 'red', 'name': 'Apple'},\n",
              " {'color': 'blue', 'name': 'Blueberries'},\n",
              " {'color': 'red', 'name': 'Strawberries'},\n",
              " {'color': 'yellow', 'name': 'Banana'},\n",
              " {'color': 'orange', 'name': 'Oranges'},\n",
              " {'color': 'yellow', 'name': 'Pineapple'}]"
            ]
          },
          "metadata": {},
          "execution_count": 48
        }
      ]
    },
    {
      "cell_type": "markdown",
      "source": [
        "### Create Weaviate Instance "
      ],
      "metadata": {
        "id": "TTBAwvjxGISd"
      }
    },
    {
      "cell_type": "code",
      "source": [
        "!pip install weaviate-client==3.4.2 > /dev/null"
      ],
      "metadata": {
        "id": "Bj0hnxlBGN0-"
      },
      "execution_count": null,
      "outputs": []
    },
    {
      "cell_type": "markdown",
      "source": [
        "[Website](https://console.semi.technology/) to create Weaviate account"
      ],
      "metadata": {
        "id": "AKxhW28kK_6G"
      }
    },
    {
      "cell_type": "code",
      "source": [
        "# create Weaviate instance\n",
        "from getpass import getpass\n",
        "import weaviate\n",
        "from weaviate.wcs import WCS\n",
        "\n",
        "my_credentials = weaviate.auth.AuthClientPassword(username=input(\"User name: \"), password=getpass(\"Password: \"))"
      ],
      "metadata": {
        "colab": {
          "base_uri": "https://localhost:8080/"
        },
        "id": "9_hqzjI1GSqK",
        "outputId": "65f2274f-15c2-485f-d527-7f60780cd800"
      },
      "execution_count": null,
      "outputs": [
        {
          "name": "stdout",
          "output_type": "stream",
          "text": [
            "User name: erikacardenas300@gmail.com\n",
            "Password: ··········\n"
          ]
        }
      ]
    },
    {
      "cell_type": "code",
      "source": [
        "my_wcs = WCS(my_credentials)\n",
        "cluster_name = \"weaviate-cloud-example\" #name of the cluster, don't capitalize and no underscore\n",
        "modules = [{\n",
        "    \"name\": \"text2vec-transformers\", # pre-trained language transformer model as a Weaviate vectorization module\n",
        "    \"tag\": \"sentence-transformers-paraphrase-MiniLM-L6-v2\" # recommendation for best accuracy/speed tradeoff\n",
        "}]\n",
        "weaviate_url = my_wcs.create(cluster_name, with_auth=False, modules=modules, wait_for_completion=True)\n",
        "client = weaviate.Client(weaviate_url)\n",
        "client.is_ready()"
      ],
      "metadata": {
        "colab": {
          "base_uri": "https://localhost:8080/"
        },
        "id": "JZdc_DA2GZE3",
        "outputId": "2610c208-a5bc-45fe-b482-2862d2b14b1b"
      },
      "execution_count": null,
      "outputs": [
        {
          "output_type": "execute_result",
          "data": {
            "text/plain": [
              "True"
            ]
          },
          "metadata": {},
          "execution_count": 49
        }
      ]
    },
    {
      "cell_type": "markdown",
      "source": [
        "### Create Weaviate Schema "
      ],
      "metadata": {
        "id": "uSAFh2LBKfHX"
      }
    },
    {
      "cell_type": "code",
      "source": [
        "weaviate_schema = {\n",
        "      \"classes\": [\n",
        "                  {\n",
        "                      \"class\": \"Fruit\",\n",
        "                      \"description\": \"One of many fruits\",\n",
        "                      \"properties\": [\n",
        "                                     {\n",
        "                                         \"name\": \"name\",\n",
        "                                         \"dataType\": [\"text\"],\n",
        "                                         \"description\": \"Name of the fruit\",\n",
        "                                         \"moduleConfig\": {\n",
        "                                             \"text2vec-transformers\": {\n",
        "                                                 \"skip\": False,\n",
        "                                                 \"vectorizePropertyName\": False\n",
        "                                             }\n",
        "                                         }\n",
        "                                     },\n",
        "                                     {\n",
        "                                      \"name\": \"color\",\n",
        "                                         \"dataType\": [\"text\"],\n",
        "                                         \"description\": \"Color of the fruit\",\n",
        "                                          \"moduleConfig\": {\n",
        "                                             \"text2vec-transformers\": {\n",
        "                                                 \"skip\": False,\n",
        "                                                 \"vectorizePropertyName\": False\n",
        "                                             }\n",
        "                                             }\n",
        "                                     }\n",
        "                                     ]\n",
        "                  }\n",
        "      ]\n",
        "}                                   "
      ],
      "metadata": {
        "id": "Dte3rGeRHuls"
      },
      "execution_count": null,
      "outputs": []
    },
    {
      "cell_type": "code",
      "source": [
        "from weaviate.batch import Batch # class for handling data upload\n",
        "from weaviate.util import generate_uuid5 # generate a unique id for each object\n",
        "\n",
        "client.batch.configure(batch_size=5, dynamic=True) # good hyperparameter to be aware of - check batch size to debug\n",
        "\n",
        "def add_fruit(batch: Batch, data: dict) -> str: # adding the data objects to the batch \n",
        "  fruit_object = {\n",
        "      \"name\": data[\"name\"],\n",
        "      \"color\": data[\"color\"]\n",
        "  }\n",
        "  fruit_id = data[\"id\"] # needs a unique id\n",
        "  batch.add_data_object(\n",
        "      data_object = fruit_object,\n",
        "      class_name = \"Fruit\",\n",
        "      uuid = fruit_id\n",
        "  )\n",
        "\n",
        "with client.batch as batch: # connect to cloud\n",
        "  for idx in range(len(my_dict)):\n",
        "    id = generate_uuid5(idx)\n",
        "    new_data_object = my_dict[idx]\n",
        "    new_data_object[\"id\"] = id\n",
        "    add_fruit(batch, new_data_object)"
      ],
      "metadata": {
        "id": "hY0WnMEUMiWu"
      },
      "execution_count": null,
      "outputs": []
    },
    {
      "cell_type": "markdown",
      "source": [
        "### GraphQL in Python Examples"
      ],
      "metadata": {
        "id": "W1gIFc8sKwCP"
      }
    },
    {
      "cell_type": "code",
      "source": [
        "graphQL_query = \"\"\"\n",
        "{\n",
        "  Get{\n",
        "    Fruit (\n",
        "      nearText: {\n",
        "        concepts: [\"Breakfast\"]\n",
        "      }\n",
        "    ) {\n",
        "      name\n",
        "    }\n",
        "  }\n",
        "}\n",
        "\"\"\"\n",
        "\n",
        "client.query.raw(graphQL_query)[\"data\"][\"Get\"][\"Fruit\"]"
      ],
      "metadata": {
        "colab": {
          "base_uri": "https://localhost:8080/"
        },
        "id": "WmYSCYN7OEnN",
        "outputId": "8198ab91-e6e5-454d-a694-b94d9b440356"
      },
      "execution_count": null,
      "outputs": [
        {
          "output_type": "execute_result",
          "data": {
            "text/plain": [
              "[{'name': 'Strawberries'},\n",
              " {'name': 'Oranges'},\n",
              " {'name': 'Apple'},\n",
              " {'name': 'Banana'},\n",
              " {'name': 'Blueberries'},\n",
              " {'name': 'Pineapple'}]"
            ]
          },
          "metadata": {},
          "execution_count": 82
        }
      ]
    },
    {
      "cell_type": "code",
      "source": [
        "graphQL_query = \"\"\"\n",
        "{\n",
        "  Get{\n",
        "    Fruit (\n",
        "      nearText: {\n",
        "        concepts: [\"Summer\"]\n",
        "      }\n",
        "    ) {\n",
        "      name\n",
        "    }\n",
        "  }\n",
        "}\n",
        "\"\"\"\n",
        "\n",
        "client.query.raw(graphQL_query)[\"data\"][\"Get\"][\"Fruit\"]"
      ],
      "metadata": {
        "colab": {
          "base_uri": "https://localhost:8080/"
        },
        "id": "PR2JNfdz9c47",
        "outputId": "d6a409fe-c4db-4ef5-86b5-25664ba7132c"
      },
      "execution_count": null,
      "outputs": [
        {
          "output_type": "execute_result",
          "data": {
            "text/plain": [
              "[{'name': 'Banana'},\n",
              " {'name': 'Strawberries'},\n",
              " {'name': 'Blueberries'},\n",
              " {'name': 'Oranges'},\n",
              " {'name': 'Apple'},\n",
              " {'name': 'Pineapple'}]"
            ]
          },
          "metadata": {},
          "execution_count": 83
        }
      ]
    },
    {
      "cell_type": "code",
      "source": [
        "graphQL_query = \"\"\"\n",
        "{\n",
        "  Get{\n",
        "    Fruit (\n",
        "      nearText: {\n",
        "        concepts: [\"Yellow\"]\n",
        "      }\n",
        "      limit:2\n",
        "    ) {\n",
        "      name\n",
        "    }\n",
        "  }\n",
        "}\n",
        "\"\"\"\n",
        "\n",
        "client.query.raw(graphQL_query)[\"data\"][\"Get\"][\"Fruit\"]"
      ],
      "metadata": {
        "colab": {
          "base_uri": "https://localhost:8080/"
        },
        "id": "KgKU5b_OIiWT",
        "outputId": "af3ef1fe-cb33-4300-eb78-00114fa9e878"
      },
      "execution_count": null,
      "outputs": [
        {
          "output_type": "execute_result",
          "data": {
            "text/plain": [
              "[{'name': 'Banana'}, {'name': 'Pineapple'}]"
            ]
          },
          "metadata": {},
          "execution_count": 85
        }
      ]
    }
  ]
}